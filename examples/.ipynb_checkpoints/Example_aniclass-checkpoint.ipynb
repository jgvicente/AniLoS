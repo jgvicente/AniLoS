{
 "cells": [
  {
   "cell_type": "code",
   "execution_count": 1,
   "id": "924a26ca-633e-4166-b6e4-6a0997ba3749",
   "metadata": {},
   "outputs": [],
   "source": [
    "import numpy as np\n",
    "from scipy.sparse import coo_matrix\n",
    "from classy import Class\n",
    "from anilos import *\n",
    "import matplotlib\n",
    "import matplotlib.pyplot as plt\n",
    "cmap = matplotlib.colormaps.get_cmap(\"jet\")\n",
    "import healpy as hp\n",
    "from healpy.newvisufunc import projview"
   ]
  },
  {
   "cell_type": "code",
   "execution_count": 2,
   "id": "e5ea5191-63df-4297-b76c-472902a49f9d",
   "metadata": {},
   "outputs": [],
   "source": [
    "def alm_healpy(alm_array_list, mode):\n",
    "    \"\"\" Sets the alms in the format expected by healpy\n",
    "    \n",
    "    Normalize the alms such that the numerical values are\n",
    "    the coefficients of the expansion in the spherical\n",
    "    harmonics. \n",
    "    \n",
    "    Parameters\n",
    "    ----------\n",
    "    alm_array_list : list of arrays\n",
    "        alm arrays in the total angular momentum basis\n",
    "    mode : 't' or 'v'\n",
    "        perturbation mode\n",
    "    \n",
    "    Returns \n",
    "    -------\n",
    "    alms in the format expected by healpy\n",
    "    \n",
    "    Notes\n",
    "    -----\n",
    "    AniCLASS computes the alms in the total angular \n",
    "    momentum basis. This function performs the\n",
    "    transformation to the usual spherical harmonics basis\n",
    "    \"\"\"\n",
    "    \n",
    "    ell_max = alm_array_list[0].size + 1\n",
    "    if mode == 't':\n",
    "        inter = [2 * ell_max + 1,3 * ell_max]\n",
    "    elif mode == 'v':\n",
    "        inter = [ell_max + 2,2 * ell_max + 1]\n",
    "    else:\n",
    "        raise ValueError(\"mode not defined\")\n",
    "        \n",
    "    len_alm = sum([l+1 for l in range(ell_max+1)])  # a_{l,-m} = (-1)^m a*_{lm}\n",
    "    row = [0 for _ in range(ell_max - 1)]\n",
    "    col = [i for i in range(inter[0],inter[1])]\n",
    "    output_list = []\n",
    "    for i, alm_array in enumerate (alm_array_list):\n",
    "        normalization = [(1j)**l*np.sqrt(4*np.pi /(2*l+1))  for l in range (2, ell_max + 1)]\n",
    "        alm_sph = normalization * alm_array\n",
    "        alm = coo_matrix((alm_sph,\n",
    "                            (row,col)\n",
    "                            ),\n",
    "                            shape=(1,len_alm),\n",
    "                            dtype='complex'\n",
    "                            )\n",
    "        alm = np.array(alm.todense())[0]\n",
    "        output_list.append(alm)   \n",
    "    return output_list\n",
    "\n",
    "list_label = [\"T_tensor\", \"T_vector\",\n",
    "              \"E_tensor\", \"E_vector\",\n",
    "              \"B_tensor\", \"B_vector\"\n",
    "             ]"
   ]
  },
  {
   "cell_type": "markdown",
   "id": "b64dd69c-b24f-4083-95be-5fbea9c0c4d6",
   "metadata": {},
   "source": [
    "# Quickstart example"
   ]
  },
  {
   "cell_type": "code",
   "execution_count": 3,
   "id": "96db517a-e488-4cb3-b7c3-1d0ded8b48f1",
   "metadata": {},
   "outputs": [],
   "source": [
    "cosmo = Class() # Instance of Class\n",
    "# Required parameters\n",
    "params = {'hierarchy': 'tam', # Total angular momentum method\n",
    "          'radiation_streaming_approximation': 3,\n",
    "          'statistics': 'non_stochastic', \n",
    "          'non_stochastic_type': 'bianchi', # Calculations are performed in the context of Bianchi\n",
    "          'output': 'tCl pCl', # output: temperature and polarization\n",
    "          'modes': 't v',\n",
    "          'k_output_values': '0.002', # Perturbation scale\n",
    "          'l_max_tensors': 1000, # Maximum value that is computed by the integrator\n",
    "          'l_max_vectors': 1000\n",
    "         }\n",
    "cosmo.set(params) # Set the parameters\n",
    "cosmo.compute(['bianchi']) # Compute alms\n",
    "# Store them\n",
    "alm_tensor = cosmo.alm_bianchi(1000)['k_0']['t'] \n",
    "alm_vector = cosmo.alm_bianchi(1000)['k_0']['v']\n",
    "cosmo.struct_cleanup() # Do not forget to kill Class"
   ]
  },
  {
   "cell_type": "code",
   "execution_count": 4,
   "id": "6d28b0dd-fde7-4c0c-a85e-7d8b11ed9c44",
   "metadata": {},
   "outputs": [],
   "source": [
    "# Structure of the dictionary\n",
    "almT_tensor = alm_tensor['T']\n",
    "almE_tensor = alm_tensor['E']\n",
    "almB_tensor = alm_tensor['B']\n",
    "\n",
    "almT_vector = alm_vector['T']\n",
    "almE_vector = alm_vector['E']\n",
    "almB_vector = alm_vector['B']"
   ]
  },
  {
   "cell_type": "code",
   "execution_count": 5,
   "id": "fc30e2d8-79c2-4204-a545-4b1d341812f1",
   "metadata": {},
   "outputs": [
    {
     "name": "stdout",
     "output_type": "stream",
     "text": [
      "999\n",
      "999\n"
     ]
    }
   ],
   "source": [
    "# Both vector and tensor arrays start at the dipole\n",
    "print(almT_tensor.size)\n",
    "print(almT_vector.size)"
   ]
  },
  {
   "cell_type": "markdown",
   "id": "7493a84e-1557-4021-a49f-5b1fb65c25b9",
   "metadata": {},
   "source": [
    "## Plotting the maps"
   ]
  },
  {
   "cell_type": "code",
   "execution_count": 6,
   "id": "145a3c11-d3e7-47ad-b910-96d9bc837c54",
   "metadata": {},
   "outputs": [],
   "source": [
    "# Set the alms in the format expected by healpy \n",
    "# see healpy.sphtfunc.alm2map docstring\n",
    "\n",
    "alm_list_tensor = [almT_tensor, almE_tensor, almB_tensor]\n",
    "alm_list_vector = [almT_vector, almE_vector, almB_vector]\n",
    "\n",
    "almT_tensor_sph, almE_tensor_sph, almB_tensor_sph = alm_healpy(alm_list_tensor, 't')\n",
    "almT_vector_sph, almE_vector_sph, almB_vector_sph = alm_healpy(alm_list_vector, 'v')\n",
    "\n",
    "alms_list = [almT_tensor_sph, almT_vector_sph,\n",
    "             almE_tensor_sph, almE_vector_sph,\n",
    "             almB_tensor_sph, almB_vector_sph\n",
    "            ]"
   ]
  },
  {
   "cell_type": "code",
   "execution_count": 7,
   "id": "5772b607-b985-442e-9bc0-6afebdba5b8c",
   "metadata": {},
   "outputs": [],
   "source": [
    "# Create the maps\n",
    "nside = 2 ** 7\n",
    "maps_list = []\n",
    "for i in range (6):\n",
    "    map_from_alm = hp.sphtfunc.alm2map(alms_list[i], nside)\n",
    "    maps_list.append(map_from_alm)"
   ]
  },
  {
   "cell_type": "code",
   "execution_count": 7,
   "id": "389253e6-c2e4-48a0-8762-7e3466c3d671",
   "metadata": {},
   "outputs": [
    {
     "ename": "KeyboardInterrupt",
     "evalue": "",
     "output_type": "error",
     "traceback": [
      "\u001b[0;31m---------------------------------------------------------------------------\u001b[0m",
      "\u001b[0;31mKeyboardInterrupt\u001b[0m                         Traceback (most recent call last)",
      "File \u001b[0;32m~/anaconda3/lib/python3.9/site-packages/IPython/core/async_helpers.py:129\u001b[0m, in \u001b[0;36m_pseudo_sync_runner\u001b[0;34m(coro)\u001b[0m\n\u001b[1;32m    121\u001b[0m \u001b[38;5;250m\u001b[39m\u001b[38;5;124;03m\"\"\"\u001b[39;00m\n\u001b[1;32m    122\u001b[0m \u001b[38;5;124;03mA runner that does not really allow async execution, and just advance the coroutine.\u001b[39;00m\n\u001b[1;32m    123\u001b[0m \n\u001b[0;32m   (...)\u001b[0m\n\u001b[1;32m    126\u001b[0m \u001b[38;5;124;03mCredit to Nathaniel Smith\u001b[39;00m\n\u001b[1;32m    127\u001b[0m \u001b[38;5;124;03m\"\"\"\u001b[39;00m\n\u001b[1;32m    128\u001b[0m \u001b[38;5;28;01mtry\u001b[39;00m:\n\u001b[0;32m--> 129\u001b[0m     \u001b[43mcoro\u001b[49m\u001b[38;5;241;43m.\u001b[39;49m\u001b[43msend\u001b[49m\u001b[43m(\u001b[49m\u001b[38;5;28;43;01mNone\u001b[39;49;00m\u001b[43m)\u001b[49m\n\u001b[1;32m    130\u001b[0m \u001b[38;5;28;01mexcept\u001b[39;00m \u001b[38;5;167;01mStopIteration\u001b[39;00m \u001b[38;5;28;01mas\u001b[39;00m exc:\n\u001b[1;32m    131\u001b[0m     \u001b[38;5;28;01mreturn\u001b[39;00m exc\u001b[38;5;241m.\u001b[39mvalue\n",
      "File \u001b[0;32m~/anaconda3/lib/python3.9/site-packages/IPython/core/interactiveshell.py:3152\u001b[0m, in \u001b[0;36mInteractiveShell.run_cell_async\u001b[0;34m(self, raw_cell, store_history, silent, shell_futures, transformed_cell, preprocessing_exc_tuple, cell_id)\u001b[0m\n\u001b[1;32m   3150\u001b[0m \u001b[38;5;66;03m# Store raw and processed history\u001b[39;00m\n\u001b[1;32m   3151\u001b[0m \u001b[38;5;28;01mif\u001b[39;00m store_history:\n\u001b[0;32m-> 3152\u001b[0m     \u001b[38;5;28;43mself\u001b[39;49m\u001b[38;5;241;43m.\u001b[39;49m\u001b[43mhistory_manager\u001b[49m\u001b[38;5;241;43m.\u001b[39;49m\u001b[43mstore_inputs\u001b[49m\u001b[43m(\u001b[49m\u001b[38;5;28;43mself\u001b[39;49m\u001b[38;5;241;43m.\u001b[39;49m\u001b[43mexecution_count\u001b[49m\u001b[43m,\u001b[49m\u001b[43m \u001b[49m\u001b[43mcell\u001b[49m\u001b[43m,\u001b[49m\u001b[43m \u001b[49m\u001b[43mraw_cell\u001b[49m\u001b[43m)\u001b[49m\n\u001b[1;32m   3153\u001b[0m \u001b[38;5;28;01mif\u001b[39;00m \u001b[38;5;129;01mnot\u001b[39;00m silent:\n\u001b[1;32m   3154\u001b[0m     \u001b[38;5;28mself\u001b[39m\u001b[38;5;241m.\u001b[39mlogger\u001b[38;5;241m.\u001b[39mlog(cell, raw_cell)\n",
      "File \u001b[0;32m~/anaconda3/lib/python3.9/site-packages/IPython/core/history.py:770\u001b[0m, in \u001b[0;36mHistoryManager.store_inputs\u001b[0;34m(self, line_num, source, source_raw)\u001b[0m\n\u001b[1;32m    767\u001b[0m \u001b[38;5;28mself\u001b[39m\u001b[38;5;241m.\u001b[39minput_hist_parsed\u001b[38;5;241m.\u001b[39mappend(source)\n\u001b[1;32m    768\u001b[0m \u001b[38;5;28mself\u001b[39m\u001b[38;5;241m.\u001b[39minput_hist_raw\u001b[38;5;241m.\u001b[39mappend(source_raw)\n\u001b[0;32m--> 770\u001b[0m \u001b[38;5;28;01mwith\u001b[39;00m \u001b[38;5;28mself\u001b[39m\u001b[38;5;241m.\u001b[39mdb_input_cache_lock:\n\u001b[1;32m    771\u001b[0m     \u001b[38;5;28mself\u001b[39m\u001b[38;5;241m.\u001b[39mdb_input_cache\u001b[38;5;241m.\u001b[39mappend((line_num, source, source_raw))\n\u001b[1;32m    772\u001b[0m     \u001b[38;5;66;03m# Trigger to flush cache and write to DB.\u001b[39;00m\n",
      "\u001b[0;31mKeyboardInterrupt\u001b[0m: "
     ]
    }
   ],
   "source": [
    "j = 0\n",
    "for _ in range (3):\n",
    "    for _ in range (2):\n",
    "        projview(\n",
    "                maps_list[j],\n",
    "                projection_type=\"mollweide\",\n",
    "                cmap = cmap,\n",
    "                rot = (0, 90, 0),\n",
    "                sub = (3,2, j+1),\n",
    "                cbar = False,\n",
    "                title = list_label[j]\n",
    "                )\n",
    "        j+=1"
   ]
  },
  {
   "cell_type": "markdown",
   "id": "bc8bc1bc-1727-4175-8614-8476feefe2b7",
   "metadata": {},
   "source": [
    "# Changing parameters\n",
    "\n",
    "See explanatory.ini for definitions.\n",
    "\n",
    "See also Bianchi.ini for definitions related to Bianchi\n",
    "\n",
    "Note that some parameters do not affect the calculations in the context of Bianchi cosmologies\n",
    "\n",
    "Also note that CLASS does not compute Omega_K from Omega_m and Omega_Lambda, so always remember to inform Omega_k if you do not want the default value"
   ]
  },
  {
   "cell_type": "code",
   "execution_count": null,
   "id": "a093c3f1-85c8-45b5-b234-071a06ba358f",
   "metadata": {},
   "outputs": [],
   "source": [
    "cosmo = Class()\n",
    "params = {'h' : 0.72, # Dimensionless hubble constant\n",
    "          # 'Omega_b' : 0.04, # Baryon density parameter today\n",
    "          # 'Omega_cdm' : 0.2, # CDM density parameter today\n",
    "          # 'Omega_m' : 0.24, # Matter density parameter today\n",
    "          # 'Omega_Lambda' : 0.76, # Dark energy density parameter today\n",
    "          'Omega_k' : 1e-5, # Always remember to inform Omega_k if you don't want the default value\n",
    "          'hierarchy': 'tam',\n",
    "          'radiation_streaming_approximation': 3,\n",
    "          'statistics': 'non_stochastic',\n",
    "          'non_stochastic_type': 'bianchi',\n",
    "          'output': 'tCl pCl',\n",
    "          'modes': 't v',\n",
    "          'k_output_values': '2e-3',\n",
    "          'l_max_tensors': 1000,\n",
    "          'l_max_vectors': 1000,\n",
    "          'z_reio' : 10,\n",
    "          'ic_v' : 'oct', # Initial conditions for vector modes\n",
    "                          # Default is isocurvature\n",
    "          'gauge' : 'newtonian', # Gauge\n",
    "                                # Default is synchronous\n",
    "          # Precision related variables\n",
    "          'tight_coupling_trigger_tau_c_over_tau_h':0.005,\n",
    "          'tight_coupling_trigger_tau_c_over_tau_k' : 0.005,\n",
    "          'start_sources_at_tau_c_over_tau_h' : 0.005,\n",
    "          'perturbations_sampling_stepsize' : 0.01,\n",
    "          'tol_perturbations_integration' : 1e-7,\n",
    "          'hyper_x_min' : 1e-4,\n",
    "          # Cutoff multipoles\n",
    "          'l_max_g_vec': 30,\n",
    "          'l_max_pol_g_vec': 30, \n",
    "          'l_max_ur_vec': 30,\n",
    "          'l_max_g_ten': 30,\n",
    "          'l_max_pol_g_ten': 30, \n",
    "          'l_max_ur_ten': 30\n",
    "         }\n",
    "cosmo.set(params)\n",
    "cosmo.compute(['bianchi'])\n",
    "alm_tensor = cosmo.alm_bianchi(1000)['k_0']['t'] \n",
    "alm_vector = cosmo.alm_bianchi(1000)['k_0']['v']\n",
    "cosmo.struct_cleanup() "
   ]
  },
  {
   "cell_type": "code",
   "execution_count": null,
   "id": "7584637e-2d8c-4246-924d-da02cea1f286",
   "metadata": {},
   "outputs": [],
   "source": [
    "almT_tensor = alm_tensor['T']\n",
    "almE_tensor = alm_tensor['E']\n",
    "almB_tensor = alm_tensor['B']\n",
    "almT_vector = alm_vector['T']\n",
    "almE_vector = alm_vector['E']\n",
    "almB_vector = alm_vector['B']\n",
    "\n",
    "alm_list_tensor = [almT_tensor, almE_tensor, almB_tensor]\n",
    "alm_list_vector = [almT_vector, almE_vector, almB_vector]\n",
    "\n",
    "almT_tensor_sph, almE_tensor_sph, almB_tensor_sph = alm_healpy(alm_list_tensor, 't')\n",
    "almT_vector_sph, almE_vector_sph, almB_vector_sph = alm_healpy(alm_list_vector, 'v')\n",
    "\n",
    "alms_list = [almT_tensor_sph, almT_vector_sph,\n",
    "             almE_tensor_sph, almE_vector_sph,\n",
    "             almB_tensor_sph, almB_vector_sph\n",
    "            ]"
   ]
  },
  {
   "cell_type": "code",
   "execution_count": null,
   "id": "05da83e4-c0d7-493c-b0bd-3c3f63a2e5a4",
   "metadata": {},
   "outputs": [],
   "source": [
    "# Create the maps\n",
    "nside = 2 ** 7\n",
    "maps_list = []\n",
    "for i in range (6):\n",
    "    map_from_alm = hp.sphtfunc.alm2map(alms_list[i], nside)\n",
    "    maps_list.append(map_from_alm)"
   ]
  },
  {
   "cell_type": "code",
   "execution_count": null,
   "id": "aaec8348-6a5f-4844-a14a-898fdfc93290",
   "metadata": {},
   "outputs": [],
   "source": [
    "j = 0\n",
    "for _ in range (3):\n",
    "    for _ in range (2):\n",
    "        projview(\n",
    "                maps_list[j],\n",
    "                projection_type=\"mollweide\",\n",
    "                cmap = cmap,\n",
    "                rot = (0, 90, 0),\n",
    "                sub = (3,2, j+1),\n",
    "                cbar = False,\n",
    "                title = list_label[j]\n",
    "                )\n",
    "        j+=1"
   ]
  },
  {
   "cell_type": "markdown",
   "id": "921caafb-c12f-4f82-a609-1b784340c242",
   "metadata": {},
   "source": [
    "# Choosing a Bianchi Model\n",
    "\n",
    "Maps for each Bianchi model with isotropic limit can be computed setting combinations of $k$ (Fourier mode) and $\\Omega_K$ (or values of the density parameters).\n",
    "\n",
    "Due to the matching of perturbations, the Fourier modes are related to the spiraling lenght as $k = \\frac{m}{\\ell_s}$, where $m = 1, 2$ for vector and tensor perturbations respectively. The dimension of $k$ is Mpc$^{-1}$.\n",
    "\n",
    "Bianchi VII$_0$ : finite $\\ell_s$ and $\\Omega_K = 10^{-6}$ (or combinations of $\\Omega_m$ and $\\Omega_\\Lambda$ such that $\\Omega_K$ is small);\n",
    "\n",
    "Bianchi VII$_h$ : finite $\\ell_s$ and positive $\\Omega_K$;\n",
    "\n",
    "Bianchi V : small values of $k$, around $10^{-8} \\sim 10^{-10}$, and positive $\\Omega_K$;\n",
    "\n",
    "Bianchi IX : Negative $\\Omega_K$."
   ]
  },
  {
   "cell_type": "markdown",
   "id": "73e6c87f-de46-4252-834a-1be40691f598",
   "metadata": {},
   "source": [
    "## Bianchi VII$_0$"
   ]
  },
  {
   "cell_type": "code",
   "execution_count": null,
   "id": "e7ac229a-0a2c-4fae-811e-824b72117caf",
   "metadata": {},
   "outputs": [],
   "source": [
    "# Calculating the scale from the spiraling lenght\n",
    "spiraling_length = 500 # Mpc\n",
    "k_t = 2 / spiraling_length\n",
    "k_v = 1 / spiraling_length\n",
    "k_output_string = f'{k_t}, {k_v}'\n",
    "print(k_output_string)"
   ]
  },
  {
   "cell_type": "code",
   "execution_count": null,
   "id": "5ee50e90-58ee-4396-9b89-f2b655b3b9f9",
   "metadata": {},
   "outputs": [],
   "source": [
    "cosmo = Class()\n",
    "params = {'Omega_m' : 0.24,\n",
    "          'Omega_Lambda' : 0.76,\n",
    "          'hierarchy': 'tam', \n",
    "          'radiation_streaming_approximation': 3,\n",
    "          'statistics': 'non_stochastic', \n",
    "          'non_stochastic_type': 'bianchi', \n",
    "          'output': 'tCl pCl',\n",
    "          'modes': 't v',\n",
    "          'ic_v' : 'oct',\n",
    "          'k_output_values': k_output_string, \n",
    "          'l_max_tensors': 1000, \n",
    "          'l_max_vectors': 1000\n",
    "         }\n",
    "cosmo.set(params)\n",
    "cosmo.compute(['bianchi'])\n",
    "alm_tensor = cosmo.alm_bianchi(1000)['k_0']['t'] \n",
    "alm_vector = cosmo.alm_bianchi(1000)['k_1']['v']\n",
    "cosmo.struct_cleanup()"
   ]
  },
  {
   "cell_type": "code",
   "execution_count": null,
   "id": "c20dbc1e-c6e4-40db-9cc7-b76d7265c275",
   "metadata": {},
   "outputs": [],
   "source": [
    "almT_tensor = alm_tensor['T']\n",
    "almE_tensor = alm_tensor['E']\n",
    "almB_tensor = alm_tensor['B']\n",
    "almT_vector = alm_vector['T']\n",
    "almE_vector = alm_vector['E']\n",
    "almB_vector = alm_vector['B']\n",
    "\n",
    "alm_list_tensor = [almT_tensor, almE_tensor, almB_tensor]\n",
    "alm_list_vector = [almT_vector, almE_vector, almB_vector]\n",
    "\n",
    "almT_tensor_sph, almE_tensor_sph, almB_tensor_sph = alm_healpy(alm_list_tensor, 't')\n",
    "almT_vector_sph, almE_vector_sph, almB_vector_sph = alm_healpy(alm_list_vector, 'v')\n",
    "\n",
    "alms_list = [almT_tensor_sph, almT_vector_sph,\n",
    "             almE_tensor_sph, almE_vector_sph,\n",
    "             almB_tensor_sph, almB_vector_sph\n",
    "            ]"
   ]
  },
  {
   "cell_type": "code",
   "execution_count": null,
   "id": "33f7e306-b106-4bc9-9157-6dff0fea3c98",
   "metadata": {},
   "outputs": [],
   "source": [
    "# Create the maps\n",
    "nside = 2 ** 7\n",
    "maps_list = []\n",
    "for i in range (6):\n",
    "    map_from_alm = hp.sphtfunc.alm2map(alms_list[i], nside)\n",
    "    maps_list.append(map_from_alm)"
   ]
  },
  {
   "cell_type": "code",
   "execution_count": null,
   "id": "6c6fa64b-9869-4446-b41c-281afcf95fa8",
   "metadata": {},
   "outputs": [],
   "source": [
    "j = 0\n",
    "for _ in range (3):\n",
    "    for _ in range (2):\n",
    "        projview(\n",
    "                maps_list[j],\n",
    "                projection_type=\"mollweide\",\n",
    "                cmap = cmap,\n",
    "                rot = (0, 90, 0),\n",
    "                sub = (3,2, j+1),\n",
    "                cbar = False,\n",
    "                title = list_label[j]\n",
    "                )\n",
    "        j+=1"
   ]
  },
  {
   "cell_type": "markdown",
   "id": "fe06e8da-0520-414b-8bda-18b19096cb6b",
   "metadata": {},
   "source": [
    "## Bianchi VII$_h$"
   ]
  },
  {
   "cell_type": "code",
   "execution_count": null,
   "id": "b13e48f6-4691-4b39-90e8-cdce577f48d7",
   "metadata": {},
   "outputs": [],
   "source": [
    "# Calculating the scale from the spiraling lenght\n",
    "spiraling_length = 500 # Mpc\n",
    "k_t = 2 / spiraling_length\n",
    "k_v = 1 / spiraling_length\n",
    "k_output_string = f'{k_t}, {k_v}'\n",
    "print(k_output_string)"
   ]
  },
  {
   "cell_type": "code",
   "execution_count": null,
   "id": "5940567f-4f6a-4f86-87ce-8491733006c4",
   "metadata": {},
   "outputs": [],
   "source": [
    "cosmo = Class()\n",
    "params = {'Omega_k' : 0.01,\n",
    "          'hierarchy': 'tam', \n",
    "          'radiation_streaming_approximation': 3,\n",
    "          'statistics': 'non_stochastic', \n",
    "          'non_stochastic_type': 'bianchi', \n",
    "          'output': 'tCl pCl',\n",
    "          'modes': 't v',\n",
    "          'gauge' : 'newtonian',\n",
    "          'k_output_values': k_output_string, \n",
    "          'l_max_tensors': 1000, \n",
    "          'l_max_vectors': 1000\n",
    "         }\n",
    "cosmo.set(params)\n",
    "cosmo.compute(['bianchi'])\n",
    "alm_tensor = cosmo.alm_bianchi(1000)['k_0']['t'] \n",
    "alm_vector = cosmo.alm_bianchi(1000)['k_1']['v']\n",
    "cosmo.struct_cleanup()"
   ]
  },
  {
   "cell_type": "code",
   "execution_count": null,
   "id": "08920dbf-b7a6-4e88-aa2c-1bf9d2176550",
   "metadata": {},
   "outputs": [],
   "source": [
    "almT_tensor = alm_tensor['T']\n",
    "almE_tensor = alm_tensor['E']\n",
    "almB_tensor = alm_tensor['B']\n",
    "almT_vector = alm_vector['T']\n",
    "almE_vector = alm_vector['E']\n",
    "almB_vector = alm_vector['B']\n",
    "\n",
    "alm_list_tensor = [almT_tensor, almE_tensor, almB_tensor]\n",
    "alm_list_vector = [almT_vector, almE_vector, almB_vector]\n",
    "\n",
    "almT_tensor_sph, almE_tensor_sph, almB_tensor_sph = alm_healpy(alm_list_tensor, 't')\n",
    "almT_vector_sph, almE_vector_sph, almB_vector_sph = alm_healpy(alm_list_vector, 'v')\n",
    "\n",
    "alms_list = [almT_tensor_sph, almT_vector_sph,\n",
    "             almE_tensor_sph, almE_vector_sph,\n",
    "             almB_tensor_sph, almB_vector_sph\n",
    "            ]"
   ]
  },
  {
   "cell_type": "code",
   "execution_count": null,
   "id": "36a364c6-b0d9-4ebc-8ea4-19634d4ff134",
   "metadata": {},
   "outputs": [],
   "source": [
    "# Create the maps\n",
    "nside = 2 ** 7\n",
    "maps_list = []\n",
    "for i in range (6):\n",
    "    map_from_alm = hp.sphtfunc.alm2map(alms_list[i], nside)\n",
    "    maps_list.append(map_from_alm)"
   ]
  },
  {
   "cell_type": "code",
   "execution_count": null,
   "id": "4033d3db-b414-49f7-896c-3879346a092e",
   "metadata": {},
   "outputs": [],
   "source": [
    "j = 0\n",
    "for _ in range (3):\n",
    "    for _ in range (2):\n",
    "        projview(\n",
    "                maps_list[j],\n",
    "                projection_type=\"mollweide\",\n",
    "                cmap = cmap,\n",
    "                rot = (0, 90, 0),\n",
    "                sub = (3,2, j+1),\n",
    "                cbar = False,\n",
    "                title = list_label[j]\n",
    "                )\n",
    "        j+=1"
   ]
  },
  {
   "cell_type": "markdown",
   "id": "6581a286-9a6c-4800-b343-9931c9a250f3",
   "metadata": {},
   "source": [
    "## Bianchi V"
   ]
  },
  {
   "cell_type": "code",
   "execution_count": null,
   "id": "e22f1268-7882-4a47-ab90-87c4ed28d938",
   "metadata": {},
   "outputs": [],
   "source": [
    "# Calculating the scale from the spiraling lenght\n",
    "spiraling_length = 4e8 # Mpc\n",
    "k_t = 2 / spiraling_length\n",
    "k_v = 1 / spiraling_length\n",
    "k_output_string = f'{k_t}, {k_v}'\n",
    "print(k_output_string)"
   ]
  },
  {
   "cell_type": "code",
   "execution_count": null,
   "id": "a9671cf1-2c56-4d7e-9068-08e0b6f5f9be",
   "metadata": {},
   "outputs": [],
   "source": [
    "cosmo = Class()\n",
    "params = {'Omega_k' : 0.01,\n",
    "          'hierarchy': 'tam', \n",
    "          'radiation_streaming_approximation': 3,\n",
    "          'statistics': 'non_stochastic', \n",
    "          'non_stochastic_type': 'bianchi', \n",
    "          'output': 'tCl pCl',\n",
    "          'modes': 't v',\n",
    "          'k_output_values': k_output_string, \n",
    "          'l_max_tensors': 1000, \n",
    "          'l_max_vectors': 1000\n",
    "         }\n",
    "cosmo.set(params)\n",
    "cosmo.compute(['bianchi'])\n",
    "alm_tensor = cosmo.alm_bianchi(1000)['k_0']['t'] \n",
    "alm_vector = cosmo.alm_bianchi(1000)['k_1']['v']\n",
    "cosmo.struct_cleanup()"
   ]
  },
  {
   "cell_type": "code",
   "execution_count": null,
   "id": "1992b47c-f908-45fd-864d-aada06de6907",
   "metadata": {},
   "outputs": [],
   "source": [
    "almT_tensor = alm_tensor['T']\n",
    "almE_tensor = alm_tensor['E']\n",
    "almB_tensor = alm_tensor['B']\n",
    "almT_vector = alm_vector['T']\n",
    "almE_vector = alm_vector['E']\n",
    "almB_vector = alm_vector['B']\n",
    "\n",
    "alm_list_tensor = [almT_tensor, almE_tensor, almB_tensor]\n",
    "alm_list_vector = [almT_vector, almE_vector, almB_vector]\n",
    "\n",
    "almT_tensor_sph, almE_tensor_sph, almB_tensor_sph = alm_healpy(alm_list_tensor, 't')\n",
    "almT_vector_sph, almE_vector_sph, almB_vector_sph = alm_healpy(alm_list_vector, 'v')\n",
    "\n",
    "alms_list = [almT_tensor_sph, almT_vector_sph,\n",
    "             almE_tensor_sph, almE_vector_sph,\n",
    "             almB_tensor_sph, almB_vector_sph\n",
    "            ]"
   ]
  },
  {
   "cell_type": "code",
   "execution_count": null,
   "id": "4e142e67-6e42-4732-84ef-e6b0c01ce77e",
   "metadata": {},
   "outputs": [],
   "source": [
    "# Create the maps\n",
    "nside = 2 ** 7\n",
    "maps_list = []\n",
    "for i in range (6):\n",
    "    map_from_alm = hp.sphtfunc.alm2map(alms_list[i], nside)\n",
    "    maps_list.append(map_from_alm)"
   ]
  },
  {
   "cell_type": "code",
   "execution_count": null,
   "id": "7e4a7e9d-09d9-4658-a9e7-e5c0c7e3a257",
   "metadata": {},
   "outputs": [],
   "source": [
    "j = 0\n",
    "for _ in range (3):\n",
    "    for _ in range (2):\n",
    "        projview(\n",
    "                maps_list[j],\n",
    "                projection_type=\"mollweide\",\n",
    "                cmap = cmap,\n",
    "                rot = (0, 90, 0),\n",
    "                sub = (3,2, j+1),\n",
    "                cbar = False,\n",
    "                title = list_label[j]\n",
    "                )\n",
    "        j+=1"
   ]
  },
  {
   "cell_type": "markdown",
   "id": "0f727b0f-3f5f-4777-b239-4643e6afaa88",
   "metadata": {},
   "source": [
    "## Bianchi IX\n",
    "\n",
    "Bianchi IX is an special case where only the quadrupole of the tensor mode is non-zero"
   ]
  },
  {
   "cell_type": "code",
   "execution_count": null,
   "id": "6e318433-21ef-4a17-96dc-f1cccf9c0164",
   "metadata": {},
   "outputs": [],
   "source": [
    "cosmo = Class()\n",
    "params = {'Omega_k' : - 0.01,\n",
    "          'hierarchy': 'tam', \n",
    "          'radiation_streaming_approximation': 3,\n",
    "          'statistics': 'non_stochastic', \n",
    "          'non_stochastic_type': 'bianchi', \n",
    "          'output': 'tCl pCl',\n",
    "          'modes': 't '\n",
    "         }\n",
    "cosmo.set(params)\n",
    "cosmo.compute(['bianchi'])\n",
    "alm_tensor = cosmo.alm_bianchi(2)['k_0']['t']\n",
    "cosmo.struct_cleanup()"
   ]
  },
  {
   "cell_type": "code",
   "execution_count": null,
   "id": "44f70be9-b38e-4ff9-8598-aa0205a2c91c",
   "metadata": {},
   "outputs": [],
   "source": [
    "almT_tensor = alm_tensor['T']\n",
    "almE_tensor = alm_tensor['E']\n",
    "almB_tensor = alm_tensor['B']\n",
    "\n",
    "alm_list_tensor = [almT_tensor, almE_tensor, almB_tensor]\n",
    "almT_tensor_sph, almE_tensor_sph, almB_tensor_sph = alm_healpy(alm_list_tensor, 't')\n",
    "\n",
    "alms_list = [almT_tensor_sph, almE_tensor_sph, almB_tensor_sph]"
   ]
  },
  {
   "cell_type": "code",
   "execution_count": null,
   "id": "c7ad0f99-b327-4edc-9571-5a8f6ae1b118",
   "metadata": {},
   "outputs": [],
   "source": [
    "# Create the maps\n",
    "nside = 2 ** 7\n",
    "maps_list = []\n",
    "for i in range (3):\n",
    "    map_from_alm = hp.sphtfunc.alm2map(alms_list[i], nside)\n",
    "    maps_list.append(map_from_alm)"
   ]
  },
  {
   "cell_type": "code",
   "execution_count": null,
   "id": "c0e97039-eaa5-406d-8416-cd50e2e5daf8",
   "metadata": {},
   "outputs": [],
   "source": [
    "list_label = [\"T\", \"E\", \"B\"]"
   ]
  },
  {
   "cell_type": "code",
   "execution_count": null,
   "id": "8357b62d-08b2-4a20-93d5-8e18234fbcea",
   "metadata": {},
   "outputs": [],
   "source": [
    "j = 0\n",
    "for _ in range (3):\n",
    "    projview(\n",
    "            maps_list[j],\n",
    "            projection_type=\"mollweide\",\n",
    "            cmap = cmap,\n",
    "            rot = (0, 90, 0),\n",
    "            sub = (3,1, j+1),\n",
    "            cbar = False,\n",
    "            title = list_label[j]\n",
    "            )\n",
    "    j+=1"
   ]
  },
  {
   "cell_type": "code",
   "execution_count": null,
   "id": "d3d11fac-2af4-4df5-80fc-10a93575f960",
   "metadata": {},
   "outputs": [],
   "source": []
  }
 ],
 "metadata": {
  "kernelspec": {
   "display_name": "Python 3 (ipykernel)",
   "language": "python",
   "name": "python3"
  },
  "language_info": {
   "codemirror_mode": {
    "name": "ipython",
    "version": 3
   },
   "file_extension": ".py",
   "mimetype": "text/x-python",
   "name": "python",
   "nbconvert_exporter": "python",
   "pygments_lexer": "ipython3",
   "version": "3.9.15"
  }
 },
 "nbformat": 4,
 "nbformat_minor": 5
}
